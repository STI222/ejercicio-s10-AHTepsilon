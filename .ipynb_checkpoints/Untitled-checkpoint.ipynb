{
 "cells": [
  {
   "cell_type": "code",
   "execution_count": 1,
   "id": "f2244bb5",
   "metadata": {},
   "outputs": [],
   "source": [
    "import pandas as pd\n",
    "import numpy as np\n",
    "import math\n",
    "import tkinter as tk\n",
    "from tkinter import ttk"
   ]
  },
  {
   "cell_type": "code",
   "execution_count": 2,
   "id": "0af9739a",
   "metadata": {},
   "outputs": [
    {
     "data": {
      "text/plain": [
       "'1.4.2'"
      ]
     },
     "execution_count": 2,
     "metadata": {},
     "output_type": "execute_result"
    }
   ],
   "source": [
    "pd.__version__"
   ]
  },
  {
   "cell_type": "code",
   "execution_count": 3,
   "id": "297df33a",
   "metadata": {},
   "outputs": [
    {
     "data": {
      "text/plain": [
       "'1.21.5'"
      ]
     },
     "execution_count": 3,
     "metadata": {},
     "output_type": "execute_result"
    }
   ],
   "source": [
    "np.__version__"
   ]
  },
  {
   "cell_type": "code",
   "execution_count": 153,
   "id": "dfb0d738",
   "metadata": {},
   "outputs": [
    {
     "name": "stdout",
     "output_type": "stream",
     "text": [
      "First Value\n",
      "0.8664142779881017\n",
      "Second Value\n",
      "1.0634927201534397\n",
      "Similarity:\n",
      "0.814687549401463\n"
     ]
    }
   ],
   "source": [
    "root = tk.Tk()\n",
    "root.title(\"wow\")\n",
    "root.geometry(\"400x400\")\n",
    "\n",
    "#def slide(num):\n",
    "#    label = ttk.Label(root, text=slider1.get()/100).pack()\n",
    "\n",
    "slider1 = ttk.Scale(root, from_=0, to=100)\n",
    "slider1.pack()\n",
    "slider2 = ttk.Scale(root, from_=0, to=100)\n",
    "slider2.pack()\n",
    "slider3 = ttk.Scale(root, from_=0, to=100)\n",
    "slider3.pack()\n",
    "slider4 = ttk.Scale(root, from_=0, to=100)\n",
    "slider4.pack()\n",
    "slider5 = ttk.Scale(root, from_=0, to=100)\n",
    "slider5.pack()\n",
    "\n",
    "Vals = [6, 3, 7, 3, 8]\n",
    "\n",
    "def calculate():\n",
    "    SliderValues = [slider1.get()/100, slider2.get()/100, slider3.get()/100, slider4.get()/100, slider5.get()/100]\n",
    "    \n",
    "    ABvals = (SliderValues[0] * SliderValues[1]) + (SliderValues[2] * SliderValues[3]) + SliderValues[4]\n",
    "    APvals = math.sqrt((SliderValues[0]**2) + (SliderValues[1]**2) + (SliderValues[2]**2) + (SliderValues[3]**2) + (SliderValues[3]**2))\n",
    "\n",
    "    Cos = ABvals / APvals\n",
    "\n",
    "    print(\"First Value\")\n",
    "    print(ABvals)\n",
    "    print(\"Second Value\")\n",
    "    print(APvals)\n",
    "    \n",
    "    print(\"Similarity:\")\n",
    "    print(Cos)\n",
    "\n",
    "Btn = tk.Button(root, text=\"Calculate\", command=calculate).pack()\n",
    "\n",
    "root.mainloop()"
   ]
  }
 ],
 "metadata": {
  "kernelspec": {
   "display_name": "Python 3 (ipykernel)",
   "language": "python",
   "name": "python3"
  },
  "language_info": {
   "codemirror_mode": {
    "name": "ipython",
    "version": 3
   },
   "file_extension": ".py",
   "mimetype": "text/x-python",
   "name": "python",
   "nbconvert_exporter": "python",
   "pygments_lexer": "ipython3",
   "version": "3.9.12"
  }
 },
 "nbformat": 4,
 "nbformat_minor": 5
}
