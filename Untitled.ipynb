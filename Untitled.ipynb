{
 "cells": [
  {
   "cell_type": "code",
   "execution_count": 5,
   "id": "f2244bb5",
   "metadata": {},
   "outputs": [],
   "source": [
    "import pandas as pd\n",
    "import numpy as np\n",
    "import math\n",
    "import tkinter as tk\n",
    "from tkinter import ttk"
   ]
  },
  {
   "cell_type": "code",
   "execution_count": 6,
   "id": "0af9739a",
   "metadata": {},
   "outputs": [
    {
     "data": {
      "text/plain": [
       "'1.4.2'"
      ]
     },
     "execution_count": 6,
     "metadata": {},
     "output_type": "execute_result"
    }
   ],
   "source": [
    "pd.__version__"
   ]
  },
  {
   "cell_type": "code",
   "execution_count": 7,
   "id": "297df33a",
   "metadata": {},
   "outputs": [
    {
     "data": {
      "text/plain": [
       "'1.21.5'"
      ]
     },
     "execution_count": 7,
     "metadata": {},
     "output_type": "execute_result"
    }
   ],
   "source": [
    "np.__version__"
   ]
  },
  {
   "cell_type": "code",
   "execution_count": 15,
   "id": "dfb0d738",
   "metadata": {},
   "outputs": [
    {
     "name": "stdout",
     "output_type": "stream",
     "text": [
      "[0.134, 0.212, 0.279, 0.169, 0.235]\n"
     ]
    }
   ],
   "source": [
    "root = tk.Tk()\n",
    "root.title(\"wow\")\n",
    "root.geometry(\"400x400\")\n",
    "\n",
    "#def slide(num):\n",
    "label = ttk.Label(root, text=\"Selecciona el peso de cada variable\").pack()\n",
    "\n",
    "slider1 = ttk.Scale(root, from_=0.001, to=100)\n",
    "slider1.pack()\n",
    "slider2 = ttk.Scale(root, from_=0.001, to=100)\n",
    "slider2.pack()\n",
    "slider3 = ttk.Scale(root, from_=0.001, to=100)\n",
    "slider3.pack()\n",
    "slider4 = ttk.Scale(root, from_=0.001, to=100)\n",
    "slider4.pack()\n",
    "slider5 = ttk.Scale(root, from_=0.001, to=100)\n",
    "slider5.pack()\n",
    "\n",
    "Vals = [46, 73, 96, 58, 81]\n",
    "DividedVals = []\n",
    "ValsByWeight = []\n",
    "\n",
    "def calculate():\n",
    "    SliderValues = [slider1.get()/100, slider2.get()/100, slider3.get()/100, slider4.get()/100, slider5.get()/100]\n",
    "    \n",
    "    for val in Vals:\n",
    "        DivdVal = val/np.max(Vals)\n",
    "        DividedVals.append(DivdVal)\n",
    "        \n",
    "    for val in DividedVals:\n",
    "        for i in SliderValues:\n",
    "            calculatedVal = round((i*val), 3)\n",
    "        \n",
    "        ValsByWeight.append(calculatedVal)\n",
    "    \n",
    "    print(ValsByWeight)\n",
    "        \n",
    "\n",
    "Btn = ttk.Button(root, text=\"Calculate\", command=calculate).pack()\n",
    "\n",
    "root.mainloop()"
   ]
  },
  {
   "cell_type": "code",
   "execution_count": null,
   "id": "4e5730b5",
   "metadata": {},
   "outputs": [],
   "source": []
  }
 ],
 "metadata": {
  "kernelspec": {
   "display_name": "Python 3 (ipykernel)",
   "language": "python",
   "name": "python3"
  },
  "language_info": {
   "codemirror_mode": {
    "name": "ipython",
    "version": 3
   },
   "file_extension": ".py",
   "mimetype": "text/x-python",
   "name": "python",
   "nbconvert_exporter": "python",
   "pygments_lexer": "ipython3",
   "version": "3.9.12"
  }
 },
 "nbformat": 4,
 "nbformat_minor": 5
}
